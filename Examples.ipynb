{
 "cells": [
  {
   "cell_type": "code",
   "execution_count": null,
   "metadata": {},
   "outputs": [],
   "source": [
    "from spimclass import (Spim, SpimInterface)"
   ]
  },
  {
   "cell_type": "markdown",
   "metadata": {},
   "source": [
    "## This example is for data from L2C acquired with Labview"
   ]
  },
  {
   "cell_type": "code",
   "execution_count": null,
   "metadata": {},
   "outputs": [],
   "source": [
    "%matplotlib\n",
    "path     = \"/my/path/to/my/data/\"\n",
    "filename = \"my-file-name\""
   ]
  },
  {
   "cell_type": "code",
   "execution_count": null,
   "metadata": {},
   "outputs": [],
   "source": [
    "spim = Spim(path, filename)\n",
    "spim.initialization()\n",
    "spim.define_space_range(area=(0, 30, 0, 30)) # in µm"
   ]
  },
  {
   "cell_type": "code",
   "execution_count": null,
   "metadata": {},
   "outputs": [],
   "source": [
    "si = SpimInterface(spim)"
   ]
  },
  {
   "cell_type": "markdown",
   "metadata": {},
   "source": [
    "## This example is for data from LNCMI acquired with WinSpec"
   ]
  },
  {
   "cell_type": "code",
   "execution_count": null,
   "metadata": {},
   "outputs": [],
   "source": [
    "%matplotlib\n",
    "path     = \"/my/path/to/my/data/\"\n",
    "filename = \"my-file-name\"\n",
    "filename_coordinate = \"/my/path/to/my/data/coordinate-file.txt\""
   ]
  },
  {
   "cell_type": "code",
   "execution_count": null,
   "metadata": {},
   "outputs": [],
   "source": [
    "spim = Spim(path, filename)\n",
    "spim.initialization_winspec32(xstep_number=None, ystep_number=None, xstep_value=None, ystep_value=None)\n",
    "spim.define_space_range(coordinate_file=filename_coordinate) # Here a coordinate file is passed in argument\n",
    "                                                             # but it is not compulsory"
   ]
  },
  {
   "cell_type": "code",
   "execution_count": null,
   "metadata": {},
   "outputs": [],
   "source": [
    "si = SpimInterface(spim)"
   ]
  }
 ],
 "metadata": {
  "kernelspec": {
   "display_name": "Python 3",
   "language": "python",
   "name": "python3"
  },
  "language_info": {
   "codemirror_mode": {
    "name": "ipython",
    "version": 3
   },
   "file_extension": ".py",
   "mimetype": "text/x-python",
   "name": "python",
   "nbconvert_exporter": "python",
   "pygments_lexer": "ipython3",
   "version": "3.7.6"
  }
 },
 "nbformat": 4,
 "nbformat_minor": 4
}
