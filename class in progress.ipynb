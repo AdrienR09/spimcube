{
 "cells": [
  {
   "cell_type": "code",
   "execution_count": 1,
   "metadata": {},
   "outputs": [],
   "source": [
    "from MyPackage.classes import (Spim, SpimInterface)\n",
    "import numpy as np\n",
    "import matplotlib.pyplot as plt\n",
    "import matplotlib as mpl"
   ]
  },
  {
   "cell_type": "code",
   "execution_count": 10,
   "metadata": {},
   "outputs": [
    {
     "name": "stdout",
     "output_type": "stream",
     "text": [
      "Using matplotlib backend: MacOSX\n"
     ]
    }
   ],
   "source": [
    "%matplotlib\n",
    "path     = \"/Users/pelini/L2C/Manip uPL UV 3K/Data/Spectre image/Edgar KSU/C27/\"\n",
    "filename = \"SPI_C27_004K_370uW_5x1s_30x30um_1800gr_slit20_310nm_221018a\"\n",
    "\n",
    "spim = Spim(path, filename)\n",
    "spim.initialization()\n",
    "spim.define_space_range(area=(0, 30, 0, 30)) # in µm"
   ]
  },
  {
   "cell_type": "code",
   "execution_count": 11,
   "metadata": {},
   "outputs": [],
   "source": [
    "si = SpimInterface(spim)"
   ]
  },
  {
   "cell_type": "code",
   "execution_count": 6,
   "metadata": {},
   "outputs": [
    {
     "name": "stdout",
     "output_type": "stream",
     "text": [
      "Using matplotlib backend: MacOSX\n"
     ]
    }
   ],
   "source": [
    "%matplotlib\n",
    "path     = \"/Users/pelini/LNCMI/Data/\"\n",
    "filename = \"ix-map-CF02-514nmex-30muW-50mumslit-1sac-40x40steps-of-1x1mum\"\n",
    "filename_coordinate = \"/Users/pelini/LNCMI/Data/testfile.txt\"\n",
    "\n",
    "spim = Spim(path, filename)\n",
    "spim.initialization_winspec32()\n",
    "spim.define_space_range(coordinate_file=filename_coordinate)"
   ]
  },
  {
   "cell_type": "code",
   "execution_count": 8,
   "metadata": {},
   "outputs": [],
   "source": [
    "si = SpimInterface(spim)"
   ]
  }
 ],
 "metadata": {
  "kernelspec": {
   "display_name": "Python 3",
   "language": "python",
   "name": "python3"
  },
  "language_info": {
   "codemirror_mode": {
    "name": "ipython",
    "version": 3
   },
   "file_extension": ".py",
   "mimetype": "text/x-python",
   "name": "python",
   "nbconvert_exporter": "python",
   "pygments_lexer": "ipython3",
   "version": "3.7.6"
  }
 },
 "nbformat": 4,
 "nbformat_minor": 4
}
